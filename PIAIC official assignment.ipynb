{
 "cells": [
  {
   "cell_type": "markdown",
   "metadata": {},
   "source": [
    "## NAME:ALI ASGHAR ZOAIB DARWALA"
   ]
  },
  {
   "cell_type": "markdown",
   "metadata": {},
   "source": [
    "## ROLL NO: AIC017070"
   ]
  },
  {
   "cell_type": "markdown",
   "metadata": {},
   "source": [
    "## TEACHER NAME: NOMAN ISLAM"
   ]
  },
  {
   "cell_type": "markdown",
   "metadata": {},
   "source": [
    "## INSTITUTE NAME: SAYLANI HEAD OFFICE"
   ]
  },
  {
   "cell_type": "markdown",
   "metadata": {},
   "source": [
    "## TIMING: SUNDAY (09:00 - 12:00)"
   ]
  },
  {
   "cell_type": "markdown",
   "metadata": {},
   "source": [
    "## 1. Calculate Area of a Circle"
   ]
  },
  {
   "cell_type": "markdown",
   "metadata": {},
   "source": [
    "#### Write a Python program which accepts the radius of a circle from the user and compute the area.\n",
    "###### Program Console Sample Output 1:\n",
    "###### Input Radius: 0.5\n",
    "###### Area of Circle with radius 0.5 is 0.7853981634"
   ]
  },
  {
   "cell_type": "code",
   "execution_count": 1,
   "metadata": {},
   "outputs": [
    {
     "name": "stdout",
     "output_type": "stream",
     "text": [
      "enter the radius of the circle :0.5\n",
      "Area of circle with radius 0.5 is 0.7857142857142857\n"
     ]
    }
   ],
   "source": [
    "radius = float(input(\"enter the radius of the circle :\"))\n",
    "area = (22/7)*(radius**2)\n",
    "print(\"Area of circle with radius\",radius,\"is\",area)"
   ]
  },
  {
   "cell_type": "code",
   "execution_count": null,
   "metadata": {},
   "outputs": [],
   "source": []
  },
  {
   "cell_type": "code",
   "execution_count": null,
   "metadata": {},
   "outputs": [],
   "source": []
  },
  {
   "cell_type": "markdown",
   "metadata": {},
   "source": [
    "## 2. Check Number either positive, negative or zero"
   ]
  },
  {
   "cell_type": "markdown",
   "metadata": {},
   "source": [
    "#### Write a Python program to check if a number is positive, negative or zero\n",
    "###### Program Console Sample Output 1:\n",
    "###### Enter Number: -1\n",
    "##### Negative Number Entered\n",
    "###### Program Console Sample Output 2:\n",
    "##### Integer: 3\n",
    "##### Positive Number Entered\n",
    "###### Program Console Sample Output 3:\n",
    "##### Integer: 0\n",
    "###### Zero Entered"
   ]
  },
  {
   "cell_type": "code",
   "execution_count": 2,
   "metadata": {},
   "outputs": [
    {
     "name": "stdout",
     "output_type": "stream",
     "text": [
      "Enter and number :-1\n",
      "Negative Number Entered\n"
     ]
    }
   ],
   "source": [
    "num = int(input(\"Enter and number :\"))\n",
    "if num == 0:\n",
    "    print(\"Zero Entered\")\n",
    "elif num > 0:\n",
    "    print(\"Positive Number Entered\")\n",
    "elif num < 0:\n",
    "    print(\"Negative Number Entered\")\n"
   ]
  },
  {
   "cell_type": "code",
   "execution_count": 3,
   "metadata": {},
   "outputs": [
    {
     "name": "stdout",
     "output_type": "stream",
     "text": [
      "enter and number :3\n",
      "Positive Number Entered\n"
     ]
    }
   ],
   "source": [
    "num = int(input(\"enter and number :\"))\n",
    "if num == 0:\n",
    "    print(\"Zero Entered\")\n",
    "elif num > 0:\n",
    "    print(\"Positive Number Entered\")\n",
    "elif num < 0:\n",
    "    print(\"Negative Number Entered\")\n",
    "\n",
    "    "
   ]
  },
  {
   "cell_type": "code",
   "execution_count": 4,
   "metadata": {},
   "outputs": [
    {
     "name": "stdout",
     "output_type": "stream",
     "text": [
      "enter and number :0\n",
      "Zero Entered\n"
     ]
    }
   ],
   "source": [
    "num = int(input(\"enter and number :\"))\n",
    "if num == 0:\n",
    "    print(\"Zero Entered\")\n",
    "elif num > 0:\n",
    "    print(\"Positive Number Entered\")\n",
    "elif num < 0:\n",
    "    print(\"Negative Number Entered\")\n"
   ]
  },
  {
   "cell_type": "code",
   "execution_count": null,
   "metadata": {},
   "outputs": [],
   "source": []
  },
  {
   "cell_type": "markdown",
   "metadata": {},
   "source": [
    "## 3. Divisibility Check of two numbers"
   ]
  },
  {
   "cell_type": "markdown",
   "metadata": {},
   "source": [
    "#### Write a Python program to check whether a number is completely divisible by another number. Accept two integer values form the user\n",
    "##### Program Console Sample Output 1:\n",
    "###### Enter numerator: 4\n",
    "###### Enter Denominator: 2\n",
    "##### Number 4 is Completely divisible by 2\n",
    "###### Program Console Sample Output 2:\n",
    "##### Enter numerator: 7\n",
    "\n",
    "##### Enter Denominator: 4\n",
    "###### Number 7 is not Completely divisible by 4"
   ]
  },
  {
   "cell_type": "code",
   "execution_count": 5,
   "metadata": {},
   "outputs": [
    {
     "name": "stdout",
     "output_type": "stream",
     "text": [
      "Enter Numerator :4\n",
      "Enter Denominator :2\n",
      "Number 4 is completely divisible by 2\n"
     ]
    }
   ],
   "source": [
    "Numerator = int(input(\"Enter Numerator :\"))\n",
    "Denominator = int(input(\"Enter Denominator :\"))\n",
    "Res = Numerator % Denominator\n",
    "if Res == 0:\n",
    "    print (\"Number\",Numerator,\"is completely divisible by\",Denominator)\n",
    "else:\n",
    "    print(\"Number\",Numerator,\"is not completely divisible by\",Denominator)"
   ]
  },
  {
   "cell_type": "code",
   "execution_count": 6,
   "metadata": {},
   "outputs": [
    {
     "name": "stdout",
     "output_type": "stream",
     "text": [
      "Enter Numerator :7\n",
      "Enter Denominator :4\n",
      "Number 7 is not completely divisible by 4\n"
     ]
    }
   ],
   "source": [
    "Numerator = int(input(\"Enter Numerator :\"))\n",
    "Denominator = int(input(\"Enter Denominator :\"))\n",
    "Res = Numerator % Denominator\n",
    "if Res == 0:\n",
    "    print (\"Number\",Numerator,\"is completely divisible by\",Denominator)\n",
    "else:\n",
    "    print(\"Number\",Numerator,\"is not completely divisible by\",Denominator)\n",
    "    "
   ]
  },
  {
   "cell_type": "code",
   "execution_count": null,
   "metadata": {},
   "outputs": [],
   "source": []
  },
  {
   "cell_type": "code",
   "execution_count": null,
   "metadata": {},
   "outputs": [],
   "source": []
  },
  {
   "cell_type": "code",
   "execution_count": null,
   "metadata": {},
   "outputs": [],
   "source": []
  },
  {
   "cell_type": "code",
   "execution_count": null,
   "metadata": {},
   "outputs": [],
   "source": []
  },
  {
   "cell_type": "markdown",
   "metadata": {},
   "source": [
    "## 4. Calculate Volume of a sphere"
   ]
  },
  {
   "cell_type": "markdown",
   "metadata": {},
   "source": [
    "##### Write a Python program to get the volume of a sphere, please take the radius as input from user"
   ]
  },
  {
   "cell_type": "markdown",
   "metadata": {},
   "source": [
    "##### Program Console Output:\n",
    "##### Enter Radius of Sphere: 1\n",
    "###### Volume of the Sphere with Radius 1 is 4.18"
   ]
  },
  {
   "cell_type": "code",
   "execution_count": 7,
   "metadata": {},
   "outputs": [
    {
     "name": "stdout",
     "output_type": "stream",
     "text": [
      "Enter radius of sphere :1\n",
      "Volume of the Sphere with Radius 1.0 is 4.19047619047619\n"
     ]
    }
   ],
   "source": [
    "Sphere_Radius = float(input(\"Enter radius of sphere :\"))\n",
    "Area_of_Sphere = (4/3)*(22/7)*(Sphere_Radius**3)\n",
    "print (\"Volume of the Sphere with Radius\",Sphere_Radius,\"is\",Area_of_Sphere)"
   ]
  },
  {
   "cell_type": "code",
   "execution_count": null,
   "metadata": {},
   "outputs": [],
   "source": []
  },
  {
   "cell_type": "code",
   "execution_count": null,
   "metadata": {},
   "outputs": [],
   "source": []
  },
  {
   "cell_type": "code",
   "execution_count": null,
   "metadata": {},
   "outputs": [],
   "source": []
  },
  {
   "cell_type": "code",
   "execution_count": null,
   "metadata": {},
   "outputs": [],
   "source": []
  },
  {
   "cell_type": "markdown",
   "metadata": {},
   "source": [
    "## 5. Copy string n times\n",
    "#### Write a Python program to get a string which is n (non-negative integer) copies of a given string.\n",
    "##### Program Console Output:\n",
    "##### Enter String: Hi\n",
    "###### How many copies of String you need: 4\n",
    "###### 4 Copies of Hi are HiHiHiHi"
   ]
  },
  {
   "cell_type": "code",
   "execution_count": 8,
   "metadata": {},
   "outputs": [
    {
     "name": "stdout",
     "output_type": "stream",
     "text": [
      "Enter String: HI\n",
      "How many copies of string you need: 4\n",
      "HIHIHIHI\n"
     ]
    }
   ],
   "source": [
    "text = input(\"Enter String: \")\n",
    "copies = int(input(\"How many copies of string you need: \"))\n",
    "print (text*copies)"
   ]
  },
  {
   "cell_type": "code",
   "execution_count": null,
   "metadata": {},
   "outputs": [],
   "source": []
  },
  {
   "cell_type": "code",
   "execution_count": null,
   "metadata": {},
   "outputs": [],
   "source": []
  },
  {
   "cell_type": "code",
   "execution_count": null,
   "metadata": {},
   "outputs": [],
   "source": []
  },
  {
   "cell_type": "code",
   "execution_count": null,
   "metadata": {},
   "outputs": [],
   "source": []
  },
  {
   "cell_type": "markdown",
   "metadata": {},
   "source": [
    "## 6. Check if number is Even or Odd\n",
    "### Write a Python program to find whether a given number (accept from the user) is even or odd, print out an appropriate message to the user\n",
    "#### Program Console Output 1:\n",
    "##### Enter Number: 4\n",
    "###### 4 is Even\n",
    "#### Program Console Output 2:\n",
    "##### Enter Number: 9\n",
    "###### 9 is Odd"
   ]
  },
  {
   "cell_type": "code",
   "execution_count": 9,
   "metadata": {},
   "outputs": [
    {
     "name": "stdout",
     "output_type": "stream",
     "text": [
      "Enter Number4\n",
      "4 is Even\n"
     ]
    }
   ],
   "source": [
    "a = int(input(\"Enter Number\"))\n",
    "if a%2 == 0:\n",
    "    print(a,\"is Even\")\n",
    "elif a%2 == 1:\n",
    "    print(a,\"is Odd\")\n",
    "else:\n",
    "    print(\"Number is Invalid\")"
   ]
  },
  {
   "cell_type": "code",
   "execution_count": 10,
   "metadata": {},
   "outputs": [
    {
     "name": "stdout",
     "output_type": "stream",
     "text": [
      "Enter Number9\n",
      "9 is Odd\n"
     ]
    }
   ],
   "source": [
    "a = int(input(\"Enter Number\"))\n",
    "if a%2 == 0:\n",
    "    print(a,\"is Even\")\n",
    "elif a%2 == 1:\n",
    "    print(a,\"is Odd\")\n",
    "else:\n",
    "    print(\"Number is Invalid\")"
   ]
  },
  {
   "cell_type": "code",
   "execution_count": null,
   "metadata": {},
   "outputs": [],
   "source": []
  },
  {
   "cell_type": "code",
   "execution_count": null,
   "metadata": {},
   "outputs": [],
   "source": []
  },
  {
   "cell_type": "code",
   "execution_count": null,
   "metadata": {},
   "outputs": [],
   "source": []
  },
  {
   "cell_type": "markdown",
   "metadata": {},
   "source": [
    "## 7. Vowel Tester\n",
    "### Write a Python program to test whether a passed letter is a vowel or not\n",
    "#### Program Console Output 1:\n",
    "##### Enter a character: A\n",
    "###### Letter A is Vowel\n",
    "#### Program Console Output 2:\n",
    "##### Enter a character: e\n",
    "###### Letter e is Vowel\n",
    "#### Program Console Output 2:\n",
    "##### Enter a character: N\n",
    "###### Letter N is not Vowel"
   ]
  },
  {
   "cell_type": "code",
   "execution_count": 11,
   "metadata": {},
   "outputs": [
    {
     "name": "stdout",
     "output_type": "stream",
     "text": [
      " Enter a Character: a\n",
      "letter a is Vowel\n"
     ]
    }
   ],
   "source": [
    "letter = input(\" Enter a Character: \")\n",
    "if letter in ('a','A','e',\"E\",'i',\"I\",'o',\"O\",'u',\"U\"):\n",
    "    print(\"letter\",letter,\"is Vowel\")\n",
    "else:\n",
    "    print(\"letter\",letter,\"is Not Vowel\")"
   ]
  },
  {
   "cell_type": "code",
   "execution_count": 12,
   "metadata": {},
   "outputs": [
    {
     "name": "stdout",
     "output_type": "stream",
     "text": [
      " Enter a Character: e\n",
      "letter e is Vowel\n"
     ]
    }
   ],
   "source": [
    "letter = input(\" Enter a Character: \")\n",
    "if letter in ('a','A','e',\"E\",'i',\"I\",'o',\"O\",'u',\"U\"):\n",
    "    print(\"letter\",letter,\"is Vowel\")\n",
    "else:\n",
    "    print(\"letter\",letter,\"is Not Vowel\")"
   ]
  },
  {
   "cell_type": "code",
   "execution_count": 13,
   "metadata": {},
   "outputs": [
    {
     "name": "stdout",
     "output_type": "stream",
     "text": [
      " Enter a Character: n\n",
      "letter n is Not Vowel\n"
     ]
    }
   ],
   "source": [
    "letter = input(\" Enter a Character: \")\n",
    "if letter in ('a','A','e',\"E\",'i',\"I\",'o',\"O\",'u',\"U\"):\n",
    "    print(\"letter\",letter,\"is Vowel\")\n",
    "else:\n",
    "    print(\"letter\",letter,\"is Not Vowel\")"
   ]
  },
  {
   "cell_type": "code",
   "execution_count": null,
   "metadata": {},
   "outputs": [],
   "source": []
  },
  {
   "cell_type": "markdown",
   "metadata": {},
   "source": [
    "## 8. Triangle area\n",
    "### Write a Python program that will accept the base and height of a triangle and compute the area\n",
    "###### Reference:\n",
    "https://www.mathgoodies.com/lessons/vol1/area_triangle"
   ]
  },
  {
   "cell_type": "code",
   "execution_count": 14,
   "metadata": {},
   "outputs": [
    {
     "name": "stdout",
     "output_type": "stream",
     "text": [
      "Enter The Base of Triangle: 8\n",
      "Enter The Height of Triangle: 5\n",
      "Area of Trinagle With Base 8.0 and Height 5.0 is 20.0\n"
     ]
    }
   ],
   "source": [
    "base = float(input(\"Enter The Base of Triangle: \"))\n",
    "height = float(input(\"Enter The Height of Triangle: \"))\n",
    "area_of_traingle = (1/2)*(base)*(height)\n",
    "print(\"Area of Trinagle With Base\",base,\"and Height\",height,\"is\",area_of_traingle)"
   ]
  },
  {
   "cell_type": "code",
   "execution_count": null,
   "metadata": {},
   "outputs": [],
   "source": []
  },
  {
   "cell_type": "code",
   "execution_count": null,
   "metadata": {},
   "outputs": [],
   "source": []
  },
  {
   "cell_type": "code",
   "execution_count": null,
   "metadata": {},
   "outputs": [],
   "source": []
  },
  {
   "cell_type": "markdown",
   "metadata": {},
   "source": [
    "## 9. Calculate Interest\n",
    "### Write a Python program to compute the future value of a specified principal amount, rate of interest, and a number of years\n",
    "#### Program Console Sample 1:\n",
    "##### Please enter principal amount: 10000\n",
    "###### Please Enter Rate of interest in %: 0.1\n",
    "###### Enter number of years for investment: 5\n",
    "###### After 5 years your principal amount 10000 over an interest rate of 0.1 % will be 16105.1"
   ]
  },
  {
   "cell_type": "code",
   "execution_count": 15,
   "metadata": {},
   "outputs": [
    {
     "name": "stdout",
     "output_type": "stream",
     "text": [
      "Please enter principle amount: 10000\n",
      "Please enter rate of interest in %: 0.1\n",
      "Please enter number of years for investment5\n",
      "16105.1\n"
     ]
    }
   ],
   "source": [
    "pri_amount = float(input(\"Please enter principle amount: \"))\n",
    "int = float(input(\"Please enter rate of interest in %: \"))\n",
    "years = float(input(\"Please enter number of years for investment\"))\n",
    "future_value  = pri_amount*((1+int) ** years)\n",
    "print(round(future_value,2))"
   ]
  },
  {
   "cell_type": "code",
   "execution_count": null,
   "metadata": {},
   "outputs": [],
   "source": []
  },
  {
   "cell_type": "code",
   "execution_count": null,
   "metadata": {},
   "outputs": [],
   "source": []
  },
  {
   "cell_type": "code",
   "execution_count": null,
   "metadata": {},
   "outputs": [],
   "source": []
  },
  {
   "cell_type": "code",
   "execution_count": null,
   "metadata": {},
   "outputs": [],
   "source": []
  },
  {
   "cell_type": "code",
   "execution_count": null,
   "metadata": {},
   "outputs": [],
   "source": []
  },
  {
   "cell_type": "markdown",
   "metadata": {},
   "source": [
    "## 10. Euclidean distance\n",
    "### write a Python program to compute the distance between the points (x1, y1) and (x2, y2).\n",
    "#### Program Console Sample 1:\n",
    "###### Enter Co-ordinate for x1: 2\n",
    "###### Enter Co-ordinate for x2: 4\n",
    "###### Enter Co-ordinate for y1: 4\n",
    "###### Enter Co-ordinate for y2: 4\n",
    "###### Distance between points (2, 4) and (4, 4) is 2"
   ]
  },
  {
   "cell_type": "markdown",
   "metadata": {},
   "source": [
    "###### Reference:\n",
    "https://en.wikipedia.org/wiki/Euclidean_distance"
   ]
  },
  {
   "cell_type": "code",
   "execution_count": 16,
   "metadata": {},
   "outputs": [
    {
     "name": "stdout",
     "output_type": "stream",
     "text": [
      "Enter Co-ordinate for x1: 2\n",
      "Enter Co-ordinate for x2: 4\n",
      "Enter Co-ordinate for y1: 4\n",
      "Enter Co-ordinate for y2: 4\n",
      "Distance is 2.0\n"
     ]
    }
   ],
   "source": [
    "x1 = float(input(\"Enter Co-ordinate for x1: \"))\n",
    "x2 = float(input(\"Enter Co-ordinate for x2: \"))\n",
    "y1 = float(input(\"Enter Co-ordinate for y1: \"))\n",
    "y2 = float(input(\"Enter Co-ordinate for y2: \"))\n",
    "distance =(((x2-x1)**2)+((y2-y1)**2))**0.5\n",
    "print(\"Distance is\",distance)"
   ]
  },
  {
   "cell_type": "code",
   "execution_count": null,
   "metadata": {},
   "outputs": [],
   "source": []
  },
  {
   "cell_type": "code",
   "execution_count": null,
   "metadata": {},
   "outputs": [],
   "source": []
  },
  {
   "cell_type": "code",
   "execution_count": null,
   "metadata": {},
   "outputs": [],
   "source": []
  },
  {
   "cell_type": "markdown",
   "metadata": {},
   "source": [
    "## 11. Feet to Centimeter Converter\n",
    "### Write a Python program to convert height in feet to centimetres.\n",
    "##### Program Console Sample 1:\n",
    "###### Enter Height in Feet: 5\n",
    "###### There are 152.4 Cm in 5 ft\n",
    "###### Reference:\n",
    "https://www.rapidtables.com/convert/length/feet-to-cm.html"
   ]
  },
  {
   "cell_type": "code",
   "execution_count": 17,
   "metadata": {},
   "outputs": [
    {
     "name": "stdout",
     "output_type": "stream",
     "text": [
      "Enter Height in Feet: 5\n",
      "There are 152.4 cm in 5.0 ft\n"
     ]
    }
   ],
   "source": [
    "feet = float(input(\"Enter Height in Feet: \"))\n",
    "cm = feet*30.48\n",
    "print(\"There are\",cm,\"cm in\",feet,\"ft\")"
   ]
  },
  {
   "cell_type": "code",
   "execution_count": null,
   "metadata": {},
   "outputs": [],
   "source": []
  },
  {
   "cell_type": "code",
   "execution_count": null,
   "metadata": {},
   "outputs": [],
   "source": []
  },
  {
   "cell_type": "code",
   "execution_count": null,
   "metadata": {},
   "outputs": [],
   "source": []
  },
  {
   "cell_type": "markdown",
   "metadata": {},
   "source": [
    "## 12. BMI Calculator\n",
    "### Write a Python program to calculate body mass index\n",
    "##### Program Console Sample 1:\n",
    "###### Enter Height in Cm: 180\n",
    "###### Enter Weight in Kg: 75\n",
    "###### Your BMI is 23.15"
   ]
  },
  {
   "cell_type": "code",
   "execution_count": 18,
   "metadata": {},
   "outputs": [
    {
     "name": "stdout",
     "output_type": "stream",
     "text": [
      "Please Enter Height in Cm: 180\n",
      "Please Enter Weight in Kg: 75\n",
      "your BMI is 23.148148148148145\n"
     ]
    }
   ],
   "source": [
    "Height = float(input(\"Please Enter Height in Cm: \"))\n",
    "Weight = float(input(\"Please Enter Weight in Kg: \"))\n",
    "BMI = Weight/((Height*0.01)**2)\n",
    "print(\"your BMI is\",BMI)"
   ]
  },
  {
   "cell_type": "code",
   "execution_count": null,
   "metadata": {},
   "outputs": [],
   "source": []
  },
  {
   "cell_type": "code",
   "execution_count": null,
   "metadata": {},
   "outputs": [],
   "source": []
  },
  {
   "cell_type": "markdown",
   "metadata": {},
   "source": [
    "## 13. Sum of n Positive Integers\n",
    "### Write a python program to sum of the first n positive integers\n",
    "#### Program Console Sample 1:\n",
    "###### Enter value of n: 5\n",
    "###### Sum of n Positive integers till 5 is 15"
   ]
  },
  {
   "cell_type": "code",
   "execution_count": null,
   "metadata": {},
   "outputs": [],
   "source": [
    "Sum = 0\n",
    "n = int(input(\"Enter value of n: \"))\n",
    "for i in range(1,(n+1)):\n",
    "    Sum=Sum+i\n",
    "print(\"Sum of n positive integers till\",n,\"is\",Sum)"
   ]
  },
  {
   "cell_type": "code",
   "execution_count": null,
   "metadata": {},
   "outputs": [],
   "source": []
  },
  {
   "cell_type": "code",
   "execution_count": null,
   "metadata": {},
   "outputs": [],
   "source": []
  },
  {
   "cell_type": "markdown",
   "metadata": {},
   "source": [
    "## 14. Digits Sum of a Number\n",
    "### Write a Python program to calculate the sum of the digits in an integer\n",
    "#### Program Console Sample 1:\n",
    "##### Enter a number: 15\n",
    "###### Sum of 1 + 5 is 6\n",
    "#### Program Console Sample 2:\n",
    "##### Enter a number: 1234\n",
    "###### Sum of 1 + 2 + 3 + 4 is 10"
   ]
  },
  {
   "cell_type": "code",
   "execution_count": null,
   "metadata": {},
   "outputs": [],
   "source": [
    "sum1 = 0\n",
    "digits = input(\"Enter a Number: \")\n",
    "for c in digits:\n",
    "    c = int(c)\n",
    "    sum1 = sum1 + c\n",
    "print(\" Sum is\",sum1)"
   ]
  },
  {
   "cell_type": "code",
   "execution_count": null,
   "metadata": {},
   "outputs": [],
   "source": [
    "sum1 = 0\n",
    "digits = input(\"Enter a Number: \")\n",
    "for c in digits:\n",
    "    c = int(c)\n",
    "    sum1 = sum1 + c\n",
    "print(\" Sum is\",sum1)"
   ]
  },
  {
   "cell_type": "code",
   "execution_count": null,
   "metadata": {},
   "outputs": [],
   "source": []
  },
  {
   "cell_type": "code",
   "execution_count": null,
   "metadata": {},
   "outputs": [],
   "source": []
  },
  {
   "cell_type": "code",
   "execution_count": null,
   "metadata": {},
   "outputs": [],
   "source": []
  },
  {
   "cell_type": "code",
   "execution_count": null,
   "metadata": {},
   "outputs": [],
   "source": []
  },
  {
   "cell_type": "code",
   "execution_count": null,
   "metadata": {},
   "outputs": [],
   "source": []
  },
  {
   "cell_type": "code",
   "execution_count": null,
   "metadata": {},
   "outputs": [],
   "source": []
  },
  {
   "cell_type": "code",
   "execution_count": null,
   "metadata": {},
   "outputs": [],
   "source": []
  }
 ],
 "metadata": {
  "kernelspec": {
   "display_name": "Python 3",
   "language": "python",
   "name": "python3"
  },
  "language_info": {
   "codemirror_mode": {
    "name": "ipython",
    "version": 3
   },
   "file_extension": ".py",
   "mimetype": "text/x-python",
   "name": "python",
   "nbconvert_exporter": "python",
   "pygments_lexer": "ipython3",
   "version": "3.7.1"
  }
 },
 "nbformat": 4,
 "nbformat_minor": 2
}
